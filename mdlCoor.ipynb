{
  "nbformat": 4,
  "nbformat_minor": 0,
  "metadata": {
    "colab": {
      "name": "mdlCoor.ipynb",
      "provenance": [],
      "collapsed_sections": []
    },
    "kernelspec": {
      "name": "python3",
      "display_name": "Python 3"
    }
  },
  "cells": [
    {
      "cell_type": "code",
      "metadata": {
        "id": "eS-pN0vhgC8c",
        "outputId": "91a4540c-ac6d-42c2-f94c-c0f49be79ee6",
        "colab": {
          "base_uri": "https://localhost:8080/",
          "height": 195
        }
      },
      "source": [
        "import pandas as pd\n",
        "import numpy as np\n",
        "from sklearn.preprocessing import MinMaxScaler\n",
        "from sklearn.preprocessing import LabelEncoder\n",
        "\n",
        "df= pd.read_csv('/content/mdl_ihciA.csv')\n",
        "df.head()"
      ],
      "execution_count": 10,
      "outputs": [
        {
          "output_type": "execute_result",
          "data": {
            "text/html": [
              "<div>\n",
              "<style scoped>\n",
              "    .dataframe tbody tr th:only-of-type {\n",
              "        vertical-align: middle;\n",
              "    }\n",
              "\n",
              "    .dataframe tbody tr th {\n",
              "        vertical-align: top;\n",
              "    }\n",
              "\n",
              "    .dataframe thead th {\n",
              "        text-align: right;\n",
              "    }\n",
              "</style>\n",
              "<table border=\"1\" class=\"dataframe\">\n",
              "  <thead>\n",
              "    <tr style=\"text-align: right;\">\n",
              "      <th></th>\n",
              "      <th>Qid</th>\n",
              "      <th>CognitiveCat</th>\n",
              "      <th>KnowledgeCat</th>\n",
              "    </tr>\n",
              "  </thead>\n",
              "  <tbody>\n",
              "    <tr>\n",
              "      <th>0</th>\n",
              "      <td>Q001</td>\n",
              "      <td>Evaluate</td>\n",
              "      <td>Procedural</td>\n",
              "    </tr>\n",
              "    <tr>\n",
              "      <th>1</th>\n",
              "      <td>Q002</td>\n",
              "      <td>Analyze</td>\n",
              "      <td>Conceptual</td>\n",
              "    </tr>\n",
              "    <tr>\n",
              "      <th>2</th>\n",
              "      <td>Q003</td>\n",
              "      <td>Understand</td>\n",
              "      <td>Procedural</td>\n",
              "    </tr>\n",
              "    <tr>\n",
              "      <th>3</th>\n",
              "      <td>Q004</td>\n",
              "      <td>Understand</td>\n",
              "      <td>Factual</td>\n",
              "    </tr>\n",
              "    <tr>\n",
              "      <th>4</th>\n",
              "      <td>Q005</td>\n",
              "      <td>Create</td>\n",
              "      <td>Conceptual</td>\n",
              "    </tr>\n",
              "  </tbody>\n",
              "</table>\n",
              "</div>"
            ],
            "text/plain": [
              "    Qid CognitiveCat KnowledgeCat\n",
              "0  Q001     Evaluate   Procedural\n",
              "1  Q002      Analyze   Conceptual\n",
              "2  Q003   Understand   Procedural\n",
              "3  Q004   Understand      Factual\n",
              "4  Q005       Create   Conceptual"
            ]
          },
          "metadata": {
            "tags": []
          },
          "execution_count": 10
        }
      ]
    },
    {
      "cell_type": "code",
      "metadata": {
        "id": "C5zfk17nhEAR",
        "outputId": "5b1318a4-9e3f-4452-db89-dd2fe1c13d0c",
        "colab": {
          "base_uri": "https://localhost:8080/",
          "height": 201
        }
      },
      "source": [
        "df.info()"
      ],
      "execution_count": 11,
      "outputs": [
        {
          "output_type": "stream",
          "text": [
            "<class 'pandas.core.frame.DataFrame'>\n",
            "RangeIndex: 794 entries, 0 to 793\n",
            "Data columns (total 3 columns):\n",
            " #   Column        Non-Null Count  Dtype \n",
            "---  ------        --------------  ----- \n",
            " 0   Qid           794 non-null    object\n",
            " 1   CognitiveCat  794 non-null    object\n",
            " 2   KnowledgeCat  794 non-null    object\n",
            "dtypes: object(3)\n",
            "memory usage: 18.7+ KB\n"
          ],
          "name": "stdout"
        }
      ]
    },
    {
      "cell_type": "code",
      "metadata": {
        "id": "tLADfXzziOFH",
        "outputId": "0c7c5c66-bf0c-441a-92a0-b81413dd3d05",
        "colab": {
          "base_uri": "https://localhost:8080/",
          "height": 166
        }
      },
      "source": [
        "df.describe()"
      ],
      "execution_count": 12,
      "outputs": [
        {
          "output_type": "execute_result",
          "data": {
            "text/html": [
              "<div>\n",
              "<style scoped>\n",
              "    .dataframe tbody tr th:only-of-type {\n",
              "        vertical-align: middle;\n",
              "    }\n",
              "\n",
              "    .dataframe tbody tr th {\n",
              "        vertical-align: top;\n",
              "    }\n",
              "\n",
              "    .dataframe thead th {\n",
              "        text-align: right;\n",
              "    }\n",
              "</style>\n",
              "<table border=\"1\" class=\"dataframe\">\n",
              "  <thead>\n",
              "    <tr style=\"text-align: right;\">\n",
              "      <th></th>\n",
              "      <th>Qid</th>\n",
              "      <th>CognitiveCat</th>\n",
              "      <th>KnowledgeCat</th>\n",
              "    </tr>\n",
              "  </thead>\n",
              "  <tbody>\n",
              "    <tr>\n",
              "      <th>count</th>\n",
              "      <td>794</td>\n",
              "      <td>794</td>\n",
              "      <td>794</td>\n",
              "    </tr>\n",
              "    <tr>\n",
              "      <th>unique</th>\n",
              "      <td>794</td>\n",
              "      <td>6</td>\n",
              "      <td>3</td>\n",
              "    </tr>\n",
              "    <tr>\n",
              "      <th>top</th>\n",
              "      <td>Q259</td>\n",
              "      <td>Understand</td>\n",
              "      <td>Conceptual</td>\n",
              "    </tr>\n",
              "    <tr>\n",
              "      <th>freq</th>\n",
              "      <td>1</td>\n",
              "      <td>464</td>\n",
              "      <td>320</td>\n",
              "    </tr>\n",
              "  </tbody>\n",
              "</table>\n",
              "</div>"
            ],
            "text/plain": [
              "         Qid CognitiveCat KnowledgeCat\n",
              "count    794          794          794\n",
              "unique   794            6            3\n",
              "top     Q259   Understand   Conceptual\n",
              "freq       1          464          320"
            ]
          },
          "metadata": {
            "tags": []
          },
          "execution_count": 12
        }
      ]
    },
    {
      "cell_type": "code",
      "metadata": {
        "id": "W0OMB734Bi3y",
        "outputId": "1fdfbe6a-57bc-413e-f741-cc53de361ea1",
        "colab": {
          "base_uri": "https://localhost:8080/",
          "height": 248
        }
      },
      "source": [
        "import matplotlib.pyplot as plt\n",
        "sizes= df['CognitiveCat'].value_counts()\n",
        "fig1,ax1 = plt.subplots()\n",
        "ax1.pie(sizes,autopct='%1.1f%%',labels=['Remember','Understand','Apply','Analyze','Evaluate', 'Create'],shadow=True)\n",
        "plt.show()"
      ],
      "execution_count": 13,
      "outputs": [
        {
          "output_type": "display_data",
          "data": {
            "image/png": "[encoded data removed]",
            "text/plain": [
              "<Figure size 432x288 with 1 Axes>"
            ]
          },
          "metadata": {
            "tags": []
          }
        }
      ]
    },
    {
      "cell_type": "code",
      "metadata": {
        "id": "iZeOwDKzCkdh",
        "outputId": "daccc2ea-a787-4c2c-d13a-bb09ab676398",
        "colab": {
          "base_uri": "https://localhost:8080/",
          "height": 248
        }
      },
      "source": [
        "import matplotlib.pyplot as plt\n",
        "sizes= df['KnowledgeCat'].value_counts()\n",
        "fig1,ax1 = plt.subplots()\n",
        "ax1.pie(sizes,autopct='%1.1f%%',labels=['Factual','Procedural','Conceptual'],shadow=True)\n",
        "plt.show()"
      ],
      "execution_count": 14,
      "outputs": [
        {
          "output_type": "display_data",
          "data": {
            "image/png": "[encoded data removed]",
            "text/plain": [
              "<Figure size 432x288 with 1 Axes>"
            ]
          },
          "metadata": {
            "tags": []
          }
        }
      ]
    },
    {
      "cell_type": "code",
      "metadata": {
        "id": "UWrzOiEyHS1w",
        "outputId": "df10f649-d2c0-4ff1-bf4c-b3f9866f0663",
        "colab": {
          "base_uri": "https://localhost:8080/",
          "height": 109
        }
      },
      "source": [
        "data_crosstab = pd.crosstab(df['KnowledgeCat'],\n",
        "                            df['CognitiveCat'],  \n",
        "                               margins = False) \n",
        "print(data_crosstab)"
      ],
      "execution_count": 15,
      "outputs": [
        {
          "output_type": "stream",
          "text": [
            "CognitiveCat  Analyze  Apply  Create  Evaluate  Remember  Understand\n",
            "KnowledgeCat                                                        \n",
            "Conceptual         21     11       1         7        31         249\n",
            "Factual             1      3       0         2        99          73\n",
            "Procedural         19     46      47        21        21         142\n"
          ],
          "name": "stdout"
        }
      ]
    },
    {
      "cell_type": "code",
      "metadata": {
        "id": "CB2SUx-onKz4",
        "outputId": "85d2e642-1bb8-4616-f1a0-abab7ecdb25a",
        "colab": {
          "base_uri": "https://localhost:8080/",
          "height": 195
        }
      },
      "source": [
        "df = pd.get_dummies(df, columns=['CognitiveCat'], prefix = ['CP'])\n",
        "df.head()"
      ],
      "execution_count": null,
      "outputs": [
        {
          "output_type": "execute_result",
          "data": {
            "text/html": [
              "<div>\n",
              "<style scoped>\n",
              "    .dataframe tbody tr th:only-of-type {\n",
              "        vertical-align: middle;\n",
              "    }\n",
              "\n",
              "    .dataframe tbody tr th {\n",
              "        vertical-align: top;\n",
              "    }\n",
              "\n",
              "    .dataframe thead th {\n",
              "        text-align: right;\n",
              "    }\n",
              "</style>\n",
              "<table border=\"1\" class=\"dataframe\">\n",
              "  <thead>\n",
              "    <tr style=\"text-align: right;\">\n",
              "      <th></th>\n",
              "      <th>Qid</th>\n",
              "      <th>KnowledgeCat</th>\n",
              "      <th>CP_Analyze</th>\n",
              "      <th>CP_Apply</th>\n",
              "      <th>CP_Create</th>\n",
              "      <th>CP_Evaluate</th>\n",
              "      <th>CP_Remember</th>\n",
              "      <th>CP_Understand</th>\n",
              "    </tr>\n",
              "  </thead>\n",
              "  <tbody>\n",
              "    <tr>\n",
              "      <th>0</th>\n",
              "      <td>Q001</td>\n",
              "      <td>Procedural</td>\n",
              "      <td>0</td>\n",
              "      <td>0</td>\n",
              "      <td>0</td>\n",
              "      <td>1</td>\n",
              "      <td>0</td>\n",
              "      <td>0</td>\n",
              "    </tr>\n",
              "    <tr>\n",
              "      <th>1</th>\n",
              "      <td>Q002</td>\n",
              "      <td>Conceptual</td>\n",
              "      <td>1</td>\n",
              "      <td>0</td>\n",
              "      <td>0</td>\n",
              "      <td>0</td>\n",
              "      <td>0</td>\n",
              "      <td>0</td>\n",
              "    </tr>\n",
              "    <tr>\n",
              "      <th>2</th>\n",
              "      <td>Q003</td>\n",
              "      <td>Procedural</td>\n",
              "      <td>0</td>\n",
              "      <td>0</td>\n",
              "      <td>0</td>\n",
              "      <td>0</td>\n",
              "      <td>0</td>\n",
              "      <td>1</td>\n",
              "    </tr>\n",
              "    <tr>\n",
              "      <th>3</th>\n",
              "      <td>Q004</td>\n",
              "      <td>Factual</td>\n",
              "      <td>0</td>\n",
              "      <td>0</td>\n",
              "      <td>0</td>\n",
              "      <td>0</td>\n",
              "      <td>0</td>\n",
              "      <td>1</td>\n",
              "    </tr>\n",
              "    <tr>\n",
              "      <th>4</th>\n",
              "      <td>Q005</td>\n",
              "      <td>Conceptual</td>\n",
              "      <td>0</td>\n",
              "      <td>0</td>\n",
              "      <td>1</td>\n",
              "      <td>0</td>\n",
              "      <td>0</td>\n",
              "      <td>0</td>\n",
              "    </tr>\n",
              "  </tbody>\n",
              "</table>\n",
              "</div>"
            ],
            "text/plain": [
              "    Qid KnowledgeCat  CP_Analyze  ...  CP_Evaluate  CP_Remember  CP_Understand\n",
              "0  Q001   Procedural           0  ...            1            0              0\n",
              "1  Q002   Conceptual           1  ...            0            0              0\n",
              "2  Q003   Procedural           0  ...            0            0              1\n",
              "3  Q004      Factual           0  ...            0            0              1\n",
              "4  Q005   Conceptual           0  ...            0            0              0\n",
              "\n",
              "[5 rows x 8 columns]"
            ]
          },
          "metadata": {
            "tags": []
          },
          "execution_count": 23
        }
      ]
    },
    {
      "cell_type": "code",
      "metadata": {
        "id": "QKHg9sEtndho",
        "outputId": "16c086c7-511d-495f-9518-0943a38b6032",
        "colab": {
          "base_uri": "https://localhost:8080/",
          "height": 195
        }
      },
      "source": [
        "df = pd.get_dummies(df, columns=['KnowledgeCat'], prefix = ['Know'])\n",
        "df.head()"
      ],
      "execution_count": null,
      "outputs": [
        {
          "output_type": "execute_result",
          "data": {
            "text/html": [
              "<div>\n",
              "<style scoped>\n",
              "    .dataframe tbody tr th:only-of-type {\n",
              "        vertical-align: middle;\n",
              "    }\n",
              "\n",
              "    .dataframe tbody tr th {\n",
              "        vertical-align: top;\n",
              "    }\n",
              "\n",
              "    .dataframe thead th {\n",
              "        text-align: right;\n",
              "    }\n",
              "</style>\n",
              "<table border=\"1\" class=\"dataframe\">\n",
              "  <thead>\n",
              "    <tr style=\"text-align: right;\">\n",
              "      <th></th>\n",
              "      <th>Qid</th>\n",
              "      <th>CP_Analyze</th>\n",
              "      <th>CP_Apply</th>\n",
              "      <th>CP_Create</th>\n",
              "      <th>CP_Evaluate</th>\n",
              "      <th>CP_Remember</th>\n",
              "      <th>CP_Understand</th>\n",
              "      <th>Know_Conceptual</th>\n",
              "      <th>Know_Factual</th>\n",
              "      <th>Know_Procedural</th>\n",
              "    </tr>\n",
              "  </thead>\n",
              "  <tbody>\n",
              "    <tr>\n",
              "      <th>0</th>\n",
              "      <td>Q001</td>\n",
              "      <td>0</td>\n",
              "      <td>0</td>\n",
              "      <td>0</td>\n",
              "      <td>1</td>\n",
              "      <td>0</td>\n",
              "      <td>0</td>\n",
              "      <td>0</td>\n",
              "      <td>0</td>\n",
              "      <td>1</td>\n",
              "    </tr>\n",
              "    <tr>\n",
              "      <th>1</th>\n",
              "      <td>Q002</td>\n",
              "      <td>1</td>\n",
              "      <td>0</td>\n",
              "      <td>0</td>\n",
              "      <td>0</td>\n",
              "      <td>0</td>\n",
              "      <td>0</td>\n",
              "      <td>1</td>\n",
              "      <td>0</td>\n",
              "      <td>0</td>\n",
              "    </tr>\n",
              "    <tr>\n",
              "      <th>2</th>\n",
              "      <td>Q003</td>\n",
              "      <td>0</td>\n",
              "      <td>0</td>\n",
              "      <td>0</td>\n",
              "      <td>0</td>\n",
              "      <td>0</td>\n",
              "      <td>1</td>\n",
              "      <td>0</td>\n",
              "      <td>0</td>\n",
              "      <td>1</td>\n",
              "    </tr>\n",
              "    <tr>\n",
              "      <th>3</th>\n",
              "      <td>Q004</td>\n",
              "      <td>0</td>\n",
              "      <td>0</td>\n",
              "      <td>0</td>\n",
              "      <td>0</td>\n",
              "      <td>0</td>\n",
              "      <td>1</td>\n",
              "      <td>0</td>\n",
              "      <td>1</td>\n",
              "      <td>0</td>\n",
              "    </tr>\n",
              "    <tr>\n",
              "      <th>4</th>\n",
              "      <td>Q005</td>\n",
              "      <td>0</td>\n",
              "      <td>0</td>\n",
              "      <td>1</td>\n",
              "      <td>0</td>\n",
              "      <td>0</td>\n",
              "      <td>0</td>\n",
              "      <td>1</td>\n",
              "      <td>0</td>\n",
              "      <td>0</td>\n",
              "    </tr>\n",
              "  </tbody>\n",
              "</table>\n",
              "</div>"
            ],
            "text/plain": [
              "    Qid  CP_Analyze  CP_Apply  ...  Know_Conceptual  Know_Factual  Know_Procedural\n",
              "0  Q001           0         0  ...                0             0                1\n",
              "1  Q002           1         0  ...                1             0                0\n",
              "2  Q003           0         0  ...                0             0                1\n",
              "3  Q004           0         0  ...                0             1                0\n",
              "4  Q005           0         0  ...                1             0                0\n",
              "\n",
              "[5 rows x 10 columns]"
            ]
          },
          "metadata": {
            "tags": []
          },
          "execution_count": 25
        }
      ]
    },
    {
      "cell_type": "code",
      "metadata": {
        "id": "OaiU7VK5nyuD",
        "outputId": "98e132d5-6ec7-41b4-9bc9-dc28dfafbad2",
        "colab": {
          "base_uri": "https://localhost:8080/",
          "height": 334
        }
      },
      "source": [
        "df.corr()"
      ],
      "execution_count": null,
      "outputs": [
        {
          "output_type": "execute_result",
          "data": {
            "text/html": [
              "<div>\n",
              "<style scoped>\n",
              "    .dataframe tbody tr th:only-of-type {\n",
              "        vertical-align: middle;\n",
              "    }\n",
              "\n",
              "    .dataframe tbody tr th {\n",
              "        vertical-align: top;\n",
              "    }\n",
              "\n",
              "    .dataframe thead th {\n",
              "        text-align: right;\n",
              "    }\n",
              "</style>\n",
              "<table border=\"1\" class=\"dataframe\">\n",
              "  <thead>\n",
              "    <tr style=\"text-align: right;\">\n",
              "      <th></th>\n",
              "      <th>CP_Analyze</th>\n",
              "      <th>CP_Apply</th>\n",
              "      <th>CP_Create</th>\n",
              "      <th>CP_Evaluate</th>\n",
              "      <th>CP_Remember</th>\n",
              "      <th>CP_Understand</th>\n",
              "      <th>Know_Conceptual</th>\n",
              "      <th>Know_Factual</th>\n",
              "      <th>Know_Procedural</th>\n",
              "    </tr>\n",
              "  </thead>\n",
              "  <tbody>\n",
              "    <tr>\n",
              "      <th>CP_Analyze</th>\n",
              "      <td>1.000000</td>\n",
              "      <td>-0.066715</td>\n",
              "      <td>-0.059190</td>\n",
              "      <td>-0.046239</td>\n",
              "      <td>-0.113078</td>\n",
              "      <td>-0.276692</td>\n",
              "      <td>0.051935</td>\n",
              "      <td>-0.111787</td>\n",
              "      <td>0.043729</td>\n",
              "    </tr>\n",
              "    <tr>\n",
              "      <th>CP_Apply</th>\n",
              "      <td>-0.066715</td>\n",
              "      <td>1.000000</td>\n",
              "      <td>-0.072524</td>\n",
              "      <td>-0.056655</td>\n",
              "      <td>-0.138551</td>\n",
              "      <td>-0.339023</td>\n",
              "      <td>-0.128054</td>\n",
              "      <td>-0.119412</td>\n",
              "      <td>0.232885</td>\n",
              "    </tr>\n",
              "    <tr>\n",
              "      <th>CP_Create</th>\n",
              "      <td>-0.059190</td>\n",
              "      <td>-0.072524</td>\n",
              "      <td>1.000000</td>\n",
              "      <td>-0.050265</td>\n",
              "      <td>-0.122923</td>\n",
              "      <td>-0.300783</td>\n",
              "      <td>-0.197645</td>\n",
              "      <td>-0.136355</td>\n",
              "      <td>0.318090</td>\n",
              "    </tr>\n",
              "    <tr>\n",
              "      <th>CP_Evaluate</th>\n",
              "      <td>-0.046239</td>\n",
              "      <td>-0.056655</td>\n",
              "      <td>-0.050265</td>\n",
              "      <td>1.000000</td>\n",
              "      <td>-0.096028</td>\n",
              "      <td>-0.234972</td>\n",
              "      <td>-0.068553</td>\n",
              "      <td>-0.074844</td>\n",
              "      <td>0.134089</td>\n",
              "    </tr>\n",
              "    <tr>\n",
              "      <th>CP_Remember</th>\n",
              "      <td>-0.113078</td>\n",
              "      <td>-0.138551</td>\n",
              "      <td>-0.122923</td>\n",
              "      <td>-0.096028</td>\n",
              "      <td>1.000000</td>\n",
              "      <td>-0.574626</td>\n",
              "      <td>-0.195344</td>\n",
              "      <td>0.501339</td>\n",
              "      <td>-0.234231</td>\n",
              "    </tr>\n",
              "    <tr>\n",
              "      <th>CP_Understand</th>\n",
              "      <td>-0.276692</td>\n",
              "      <td>-0.339023</td>\n",
              "      <td>-0.300783</td>\n",
              "      <td>-0.234972</td>\n",
              "      <td>-0.574626</td>\n",
              "      <td>1.000000</td>\n",
              "      <td>0.323009</td>\n",
              "      <td>-0.190085</td>\n",
              "      <td>-0.163715</td>\n",
              "    </tr>\n",
              "    <tr>\n",
              "      <th>Know_Conceptual</th>\n",
              "      <td>0.051935</td>\n",
              "      <td>-0.128054</td>\n",
              "      <td>-0.197645</td>\n",
              "      <td>-0.068553</td>\n",
              "      <td>-0.195344</td>\n",
              "      <td>0.323009</td>\n",
              "      <td>1.000000</td>\n",
              "      <td>-0.441678</td>\n",
              "      <td>-0.633457</td>\n",
              "    </tr>\n",
              "    <tr>\n",
              "      <th>Know_Factual</th>\n",
              "      <td>-0.111787</td>\n",
              "      <td>-0.119412</td>\n",
              "      <td>-0.136355</td>\n",
              "      <td>-0.074844</td>\n",
              "      <td>0.501339</td>\n",
              "      <td>-0.190085</td>\n",
              "      <td>-0.441678</td>\n",
              "      <td>1.000000</td>\n",
              "      <td>-0.414430</td>\n",
              "    </tr>\n",
              "    <tr>\n",
              "      <th>Know_Procedural</th>\n",
              "      <td>0.043729</td>\n",
              "      <td>0.232885</td>\n",
              "      <td>0.318090</td>\n",
              "      <td>0.134089</td>\n",
              "      <td>-0.234231</td>\n",
              "      <td>-0.163715</td>\n",
              "      <td>-0.633457</td>\n",
              "      <td>-0.414430</td>\n",
              "      <td>1.000000</td>\n",
              "    </tr>\n",
              "  </tbody>\n",
              "</table>\n",
              "</div>"
            ],
            "text/plain": [
              "                 CP_Analyze  CP_Apply  ...  Know_Factual  Know_Procedural\n",
              "CP_Analyze         1.000000 -0.066715  ...     -0.111787         0.043729\n",
              "CP_Apply          -0.066715  1.000000  ...     -0.119412         0.232885\n",
              "CP_Create         -0.059190 -0.072524  ...     -0.136355         0.318090\n",
              "CP_Evaluate       -0.046239 -0.056655  ...     -0.074844         0.134089\n",
              "CP_Remember       -0.113078 -0.138551  ...      0.501339        -0.234231\n",
              "CP_Understand     -0.276692 -0.339023  ...     -0.190085        -0.163715\n",
              "Know_Conceptual    0.051935 -0.128054  ...     -0.441678        -0.633457\n",
              "Know_Factual      -0.111787 -0.119412  ...      1.000000        -0.414430\n",
              "Know_Procedural    0.043729  0.232885  ...     -0.414430         1.000000\n",
              "\n",
              "[9 rows x 9 columns]"
            ]
          },
          "metadata": {
            "tags": []
          },
          "execution_count": 26
        }
      ]
    },
    {
      "cell_type": "code",
      "metadata": {
        "id": "C3MYTOmGv6Tc",
        "outputId": "4525b66f-6cfc-4e9b-9ba6-722c5937b240",
        "colab": {
          "base_uri": "https://localhost:8080/",
          "height": 219
        }
      },
      "source": [
        "# chi-squared test with similar proportions\n",
        "from scipy.stats import chi2_contingency\n",
        "from scipy.stats import chi2\n",
        "# contingency table\n",
        "\n",
        "\n",
        "stat, p, dof, expected = chi2_contingency(data_crosstab)\n",
        "print('dof=%d' % dof)\n",
        "print(expected)\n",
        "# interpret test-statistic\n",
        "prob = 0.95\n",
        "critical = chi2.ppf(prob, dof)\n",
        "print('probability=%.3f, critical=%.3f, stat=%.3f' % (prob, critical, stat))\n",
        "if abs(stat) >= critical:\n",
        "\tprint('Cognitive skills and Knowledge dimensions are independent(reject H0)')\n",
        "else:\n",
        "\tprint('Cognitive skills and Knowledge dimensions are dependent. (fail to reject H0)')\n",
        "# interpret p-value\n",
        "alpha = 1.0 - prob\n",
        "print('significance=%.3f, p=%.3f' % (alpha, p))\n",
        "if p <= alpha:\n",
        "\tprint('Cognitive skills and Knowledge dimensions are independent (reject H0)')\n",
        "else:\n",
        "\tprint('Cognitive skills and Knowledge dimensions are dependent. (fail to reject H0)')\n"
      ],
      "execution_count": 20,
      "outputs": [
        {
          "output_type": "stream",
          "text": [
            "dof=10\n",
            "[[ 16.52392947  24.1813602   19.34508816  12.0906801   60.85642317\n",
            "  187.00251889]\n",
            " [  9.19143577  13.45088161  10.76070529   6.72544081  33.85138539\n",
            "  104.02015113]\n",
            " [ 15.28463476  22.36775819  17.89420655  11.18387909  56.29219144\n",
            "  172.97732997]]\n",
            "probability=0.950, critical=18.307, stat=336.776\n",
            "Cognitive skills and Knowledge dimensions are independent(reject H0)\n",
            "significance=0.050, p=0.000\n",
            "Cognitive skills and Knowledge dimensions are independent (reject H0)\n"
          ],
          "name": "stdout"
        }
      ]
    }
  ]
}